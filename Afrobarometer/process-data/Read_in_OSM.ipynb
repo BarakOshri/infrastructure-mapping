{
 "cells": [
  {
   "cell_type": "code",
   "execution_count": 1,
   "metadata": {
    "collapsed": true
   },
   "outputs": [],
   "source": [
    "import osmium as o \n",
    "\n",
    "class CounterHandler(o.SimpleHandler):\n",
    "    def __init__(self):\n",
    "        o.SimpleHandler.__init__(self)\n",
    "        self.num_nodes = 0\n",
    "\n",
    "    def node(self, n):\n",
    "        self.num_nodes += 1"
   ]
  },
  {
   "cell_type": "code",
   "execution_count": 2,
   "metadata": {},
   "outputs": [
    {
     "name": "stdout",
     "output_type": "stream",
     "text": [
      "Number of nodes: 879863\n"
     ]
    }
   ],
   "source": [
    "h = CounterHandler()\n",
    "h.apply_file(\"../delaware-latest.osm.pbf\") # test.osm.pbf\n",
    "print(\"Number of nodes: %d\" % h.num_nodes)"
   ]
  },
  {
   "cell_type": "code",
   "execution_count": null,
   "metadata": {
    "collapsed": true
   },
   "outputs": [],
   "source": [
    "# download and serialize \n",
    "# http://download.geofabrik.de/africa.html --- http://download.geofabrik.de/africa/country/country-latest "
   ]
  },
  {
   "cell_type": "code",
   "execution_count": 9,
   "metadata": {},
   "outputs": [
    {
     "name": "stdout",
     "output_type": "stream",
     "text": [
      "Nodes: 14376164\n",
      "Ways: 1156797\n",
      "Relations: 16406\n"
     ]
    }
   ],
   "source": [
    "class FileStatsHandler(o.SimpleHandler):\n",
    "\n",
    "    def __init__(self):\n",
    "        super(FileStatsHandler, self).__init__()\n",
    "        self.nodes = 0\n",
    "        self.ways = 0\n",
    "        self.rels = 0\n",
    "\n",
    "    def node(self, n):\n",
    "        self.nodes += 1\n",
    "\n",
    "    def way(self, w):\n",
    "        self.ways += 1\n",
    "\n",
    "    def relation(self, r):\n",
    "        self.rels += 1\n",
    "\n",
    "\n",
    "# if __name__ == '__main__':\n",
    "#     if len(sys.argv) != 2:\n",
    "#         print(\"Usage: python osm_file_stats.py <osmfile>\")\n",
    "#         sys.exit(-1)\n",
    "\n",
    "h = FileStatsHandler()\n",
    "\n",
    "# h.apply_file(\"../data/osm/Africa/burundi-latest.osm.pbf\")\n",
    "# h.apply_file(\"../data/osm/Africa/morocco-latest.osm.pbf\")\n",
    "h.apply_file(\"../data/osm/Africa/south-africa-latest.osm.pbf\")\n",
    "\n",
    "print(\"Nodes: %d\" % h.nodes)\n",
    "print(\"Ways: %d\" % h.ways)\n",
    "print(\"Relations: %d\" % h.rels)"
   ]
  },
  {
   "cell_type": "code",
   "execution_count": 4,
   "metadata": {
    "collapsed": true
   },
   "outputs": [],
   "source": [
    "\"\"\"\n",
    "Compute the total length of highways in an osm file.\n",
    "Shows how extract the geometry of a way.\n",
    "\"\"\"\n",
    "# import osmium as o\n",
    "import sys\n",
    "\n",
    "class RoadLengthHandler(o.SimpleHandler):\n",
    "    def __init__(self):\n",
    "        super(RoadLengthHandler, self).__init__()\n",
    "        self.length = 0.0\n",
    "\n",
    "    def way(self, w):\n",
    "        if 'highway' in w.tags:\n",
    "            try:\n",
    "                self.length += o.geom.haversine_distance(w.nodes)\n",
    "            except o.InvalidLocationError:\n",
    "                # A location error might occur if the osm file is an extract\n",
    "                # where nodes of ways near the boundary are missing.\n",
    "                print(\"WARNING: way %d incomplete. Ignoring.\" % w.id)\n",
    "                \n",
    "                \n",
    "                "
   ]
  },
  {
   "cell_type": "code",
   "execution_count": 8,
   "metadata": {},
   "outputs": [
    {
     "name": "stdout",
     "output_type": "stream",
     "text": [
      "Total way length: 443561.71 km\n"
     ]
    }
   ],
   "source": [
    "h = RoadLengthHandler()\n",
    "# As we need the geometry, the node locations need to be cached. Therefore\n",
    "# set 'locations' to true.\n",
    "# h.apply_file(\"../data/osm/Africa/burundi-latest.osm.pbf\", locations=True)\n",
    "# h.apply_file(\"../data/osm/Africa/morocco-latest.osm.pbf\", locations=True)\n",
    "h.apply_file(\"../data/osm/Africa/south-africa-latest.osm.pbf\", locations=True)\n",
    "\n",
    "print('Total way length: %.2f km' % (h.length/1000))"
   ]
  },
  {
   "cell_type": "code",
   "execution_count": null,
   "metadata": {
    "collapsed": true
   },
   "outputs": [],
   "source": []
  }
 ],
 "metadata": {
  "kernelspec": {
   "display_name": "Python 2",
   "language": "python",
   "name": "python2"
  },
  "language_info": {
   "codemirror_mode": {
    "name": "ipython",
    "version": 2
   },
   "file_extension": ".py",
   "mimetype": "text/x-python",
   "name": "python",
   "nbconvert_exporter": "python",
   "pygments_lexer": "ipython2",
   "version": "2.7.13"
  }
 },
 "nbformat": 4,
 "nbformat_minor": 2
}
